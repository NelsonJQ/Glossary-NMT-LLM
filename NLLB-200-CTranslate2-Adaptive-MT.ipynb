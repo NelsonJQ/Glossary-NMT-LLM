{
 "cells": [
  {
   "cell_type": "markdown",
   "metadata": {
    "colab_type": "text",
    "id": "view-in-github"
   },
   "source": [
    "<a href=\"https://colab.research.google.com/github/ymoslem/Adaptive-MT-LLM-Fine-tuning/blob/main/NLLB-200-CTranslate2-Adaptive-MT.ipynb\" target=\"_parent\"><img src=\"https://colab.research.google.com/assets/colab-badge.svg\" alt=\"Open In Colab\"/></a>"
   ]
  },
  {
   "cell_type": "markdown",
   "metadata": {
    "id": "gWyQ4MhiQmqS"
   },
   "source": [
    "# Translation with NLLB-200 using CTranslate2\n",
    "\n",
    "This notebook is part of the repository [Adaptive-MT-LLM-Fine-tuning](https://github.com/ymoslem/Adaptive-MT-LLM-Fine-tuning)."
   ]
  },
  {
   "cell_type": "markdown",
   "metadata": {
    "id": "hnh5nkfxQsyb"
   },
   "source": [
    "# Loading the data"
   ]
  },
  {
   "cell_type": "code",
   "execution_count": null,
   "metadata": {
    "colab": {
     "base_uri": "https://localhost:8080/",
     "height": 35
    },
    "id": "7jIwEIkCQe1b",
    "outputId": "04bea273-f528-41a5-e27c-b413c2de84ad"
   },
   "outputs": [
    {
     "data": {
      "application/vnd.google.colaboratory.intrinsic+json": {
       "type": "string"
      },
      "text/plain": [
       "'/content/drive/MyDrive/data/spanish'"
      ]
     },
     "execution_count": 1,
     "metadata": {},
     "output_type": "execute_result"
    }
   ],
   "source": [
    "import os\n",
    "\n",
    "data_path = \"/content/drive/MyDrive/data/\"\n",
    "directory = os.path.join(data_path, \"spanish\")\n",
    "\n",
    "os.chdir(directory)\n",
    "os.getcwd()"
   ]
  },
  {
   "cell_type": "code",
   "execution_count": null,
   "metadata": {
    "colab": {
     "base_uri": "https://localhost:8080/"
    },
    "id": "4EznpQIHQhGo",
    "outputId": "f59dc124-cbeb-4107-b808-28737d33ba20"
   },
   "outputs": [
    {
     "name": "stdout",
     "output_type": "stream",
     "text": [
      "Período de validez después de abierto el envase: 10 horas.\n",
      "Shelf life after first opening the container: 10 hours.\n"
     ]
    }
   ],
   "source": [
    "# Load test dataset\n",
    "\n",
    "source_test_file = \"all-filtered.es.real.test\"\n",
    "target_test_file = \"all-filtered.en.real.test\"\n",
    "\n",
    "with open(source_test_file, encoding=\"utf-8\") as source, open(target_test_file, encoding=\"utf-8\") as target:\n",
    "  source_sentences = [sent.strip() for sent in source.readlines()]\n",
    "  target_sentences = [sent.strip() for sent in target.readlines()]\n",
    "\n",
    "print(source_sentences[0])\n",
    "print(target_sentences[0])"
   ]
  },
  {
   "cell_type": "code",
   "execution_count": null,
   "metadata": {
    "colab": {
     "base_uri": "https://localhost:8080/"
    },
    "id": "Dzsxxv1tQj3b",
    "outputId": "250610b0-fcb3-4363-f7a3-0c9153cff6ad"
   },
   "outputs": [
    {
     "name": "stdout",
     "output_type": "stream",
     "text": [
      "Período de validez después de abierto el envase: 4 semanas\n",
      "Período de validez después de abierto el envase: 10 horas.\n",
      "Shelf life after opening the immediate packaging: 4 weeks.\n"
     ]
    }
   ],
   "source": [
    "# Load fuzzy matches from the Context Dataset\n",
    "\n",
    "online_test_file = \"all-filtered.esen.ms-multi-12.online.test\"\n",
    "\n",
    "src_lang = \"spa_Latn\"\n",
    "tgt_lang = \"eng_Latn\"\n",
    "\n",
    "with open(online_test_file, encoding=\"utf-8\") as online:\n",
    "  lines = [line.strip().split(\" ||| \") for line in online.readlines()]\n",
    "  scores = [float(line[0].strip()) for line in lines]\n",
    "  fuzzy_source_sentences = [line[1].strip() for line in lines]\n",
    "  online_source_sentences = [line[2].strip() for line in lines]\n",
    "  fuzzy_target_prefixes = [line[3].strip() for line in lines]\n",
    "\n",
    "print(fuzzy_source_sentences[0])\n",
    "print(online_source_sentences[0])\n",
    "print(fuzzy_target_prefixes[0])"
   ]
  },
  {
   "cell_type": "markdown",
   "metadata": {
    "id": "W_HHEGmtQ1i3"
   },
   "source": [
    "# Load the models"
   ]
  },
  {
   "cell_type": "code",
   "execution_count": null,
   "metadata": {
    "id": "6H2PesVzEz-T"
   },
   "outputs": [],
   "source": [
    "!pip3 install ctranslate2 sentencepiece -q"
   ]
  },
  {
   "cell_type": "code",
   "execution_count": null,
   "metadata": {
    "colab": {
     "base_uri": "https://localhost:8080/"
    },
    "id": "d9JBaMTPE2q0",
    "outputId": "62f39e20-3573-40e2-b80d-101c50dc2953"
   },
   "outputs": [
    {
     "name": "stdout",
     "output_type": "stream",
     "text": [
      "/content/drive/MyDrive/models/ct2-nllb-200-3.3B-int8:\n",
      "config.json  model.bin\tshared_vocabulary.txt\n",
      "\n",
      "/content/drive/MyDrive/models/ct2-nllb-200-distilled-1.2B-int8:\n",
      "config.json  model.bin\tshared_vocabulary.txt\n",
      "\n",
      "/content/drive/MyDrive/models/ct2-nllb-200-distilled-600M-int8:\n",
      "config.json  model.bin\tshared_vocabulary.txt\n"
     ]
    }
   ],
   "source": [
    "!ls /content/drive/MyDrive/models/ct2-nllb*"
   ]
  },
  {
   "cell_type": "code",
   "execution_count": null,
   "metadata": {
    "id": "T3w3CifEWZn7"
   },
   "outputs": [],
   "source": [
    "# Example of converting an NLLB model to CTranslate2 with int8 quantization\n",
    "\n",
    "# !ct2-transformers-converter --model facebook/nllb-200-3.3B --quantization int8 --output_dir ct2/ct2-nllb-200-3.3B-int8"
   ]
  },
  {
   "cell_type": "code",
   "execution_count": null,
   "metadata": {
    "id": "nbk1jtdCYamS"
   },
   "outputs": [],
   "source": [
    "# Download the SentencePiece model\n",
    "\n",
    "# !wget https://s3.amazonaws.com/opennmt-models/nllb-200/flores200_sacrebleu_tokenizer_spm.model"
   ]
  },
  {
   "cell_type": "code",
   "execution_count": null,
   "metadata": {
    "id": "KT7FdCrySL6T"
   },
   "outputs": [],
   "source": [
    "import os\n",
    "\n",
    "# [Modify] Set paths to the CTranslate2 and SentencePiece models\n",
    "\n",
    "drive = \"/content/drive/MyDrive/models\"\n",
    "\n",
    "ct_model_path = os.path.join(drive, \"ct2-nllb-200-3.3B-int8\")\n",
    "sp_model_path = os.path.join(drive, \"flores200_sacrebleu_tokenizer_spm.model\")"
   ]
  },
  {
   "cell_type": "code",
   "execution_count": null,
   "metadata": {
    "id": "xt2rEaKPQ4WC"
   },
   "outputs": [],
   "source": [
    "import ctranslate2\n",
    "import sentencepiece as spm\n",
    "import torch\n",
    "\n",
    "device = \"cuda\" if torch.cuda.is_available() else \"cpu\"\n",
    "\n",
    "# Load the source SentecePiece model\n",
    "sp = spm.SentencePieceProcessor()\n",
    "sp.load(sp_model_path)\n",
    "\n",
    "# Load the CTranslate2 model\n",
    "translator = ctranslate2.Translator(ct_model_path, device=device)"
   ]
  },
  {
   "cell_type": "code",
   "execution_count": null,
   "metadata": {
    "colab": {
     "base_uri": "https://localhost:8080/"
    },
    "id": "Dg4f3qc-exg3",
    "outputId": "b73eaaf4-7e9b-4155-a78b-c6bcf39ce07e"
   },
   "outputs": [
    {
     "data": {
      "text/plain": [
       "['▁English', ':']"
      ]
     },
     "execution_count": 18,
     "metadata": {},
     "output_type": "execute_result"
    }
   ],
   "source": [
    "sp.encode_as_pieces(\"English:\")"
   ]
  },
  {
   "cell_type": "markdown",
   "metadata": {
    "id": "crGs90d-UQj6"
   },
   "source": [
    "# Translate (source sentences only)"
   ]
  },
  {
   "cell_type": "code",
   "execution_count": null,
   "metadata": {
    "colab": {
     "base_uri": "https://localhost:8080/"
    },
    "id": "s33AtXObE5u4",
    "outputId": "dbbadffb-719b-4fcc-a19a-bf97ef242114"
   },
   "outputs": [
    {
     "name": "stdout",
     "output_type": "stream",
     "text": [
      "Shelf-life after opening the container: 10 hours.\n",
      "Children and adolescents The use of Telmisartan Teva in children and adolescents up to 18 years of age is not recommended.\n",
      "·Promoting the improvement, in accordance with international standards, of conditions of detention and the treatment of persons deprived of their liberty.\n",
      "Of the 1,165 patients treated with Picato in actin keratosis clinical trials conducted with ingenol mebutate gel, 656 patients (56%) were 65 years of age or older, while 241 patients (21%) were 75 years of age or older.\n",
      "Given the lack of effectiveness of this mechanism in the work of Members and the WTO, NGOs are now advocating that such materials be better organized on the website and even that the Secretariat take a more active stance, indicating some issues for the submission of material based on more predefined deadlines and patterns.\n",
      "• When the area of skin that has been cleaned is dry, peel it and hold it firmly with one hand.\n",
      "A commonly used dose to induce superovulation is 150-225 IU (0.24-0.36 ml) of GONAL-f per day, starting on day 2 or 3 of the treatment cycle.\n",
      "150 IU/ kg 3 times a week or 450 IU/ kg once a week\n",
      "However, in the sample, SAPS II and LODS showed good discriminatory ability for death occurrence in the ICU AUC=0.85 and 0.83.\n",
      "The factor 'Increased material cost leads to use of low quality materials which is detrimental to workers' was in second place within the project implementation group with an IRR = 0.631 and ranked 43rd within all groups of heat factors.\n"
     ]
    }
   ],
   "source": [
    "src_lang = \"spa_Latn\"\n",
    "tgt_lang = \"eng_Latn\"\n",
    "\n",
    "beam_size = 2\n",
    "\n",
    "source_sents = [sent.strip() for sent in source_sentences]\n",
    "target_prefix = [[tgt_lang]] * len(source_sents)\n",
    "\n",
    "# Subword the source sentences\n",
    "source_sents_subworded = sp.encode_as_pieces(source_sents)\n",
    "source_sents_subworded = [[src_lang] + sent + [\"</s>\"] for sent in source_sents_subworded]\n",
    "\n",
    "# Translate the source sentences\n",
    "translations = translator.translate_batch(source_sents_subworded,\n",
    "                                          batch_type=\"tokens\",\n",
    "                                          max_batch_size=2024,\n",
    "                                          beam_size=beam_size,\n",
    "                                          target_prefix=target_prefix)\n",
    "translations = [translation.hypotheses[0] for translation in translations]\n",
    "\n",
    "# Desubword the target sentences\n",
    "translations_desubword = sp.decode(translations)\n",
    "translations_desubword = [sent[len(tgt_lang):].strip() for sent in translations_desubword]\n",
    "\n",
    "print(*translations_desubword[:10], sep=\"\\n\")"
   ]
  },
  {
   "cell_type": "code",
   "execution_count": null,
   "metadata": {
    "id": "DWX5oeOTXTNK"
   },
   "outputs": [],
   "source": [
    "# Save the translations\n",
    "with open(\"all-filtered.es.real.test.translated-nllb3.3-ct2-beam2.en\", \"w+\") as output:\n",
    "  for translation in translations_desubword:\n",
    "    output.write(translation + \"\\n\")"
   ]
  },
  {
   "cell_type": "markdown",
   "metadata": {
    "id": "OxqtfbGuUY2b"
   },
   "source": [
    "# Translate (with fuzzy matches)"
   ]
  },
  {
   "cell_type": "code",
   "execution_count": null,
   "metadata": {
    "id": "XpxNHl8GF4F8"
   },
   "outputs": [],
   "source": [
    "import ctranslate2\n",
    "import sentencepiece as spm\n",
    "import torch\n",
    "\n",
    "src_lang = \"spa_Latn\"\n",
    "tgt_lang = \"eng_Latn\"\n",
    "\n",
    "beam_size = 2\n",
    "\n",
    "# Load the source SentecePiece model\n",
    "sp = spm.SentencePieceProcessor()\n",
    "sp.load(sp_model_path)\n",
    "\n",
    "\n",
    "# Subword the source sentences\n",
    "fuzzy_source_sentences_subworded = sp.encode_as_pieces(fuzzy_source_sentences)\n",
    "online_source_sentences_subworded = sp.encode_as_pieces(online_source_sentences)\n",
    "fuzzy_online_subworded = zip(fuzzy_source_sentences_subworded, online_source_sentences_subworded)\n",
    "\n",
    "separator = sp.encode_as_pieces(\"•\")  # tokenize \"•\" -- output is \"▁•\"\n",
    "\n",
    "source_sents_subworded = [[src_lang] + fuzzy_src + [src_lang] + separator + online_src + [\"</s>\"]\n",
    "                          for fuzzy_src, online_src in fuzzy_online_subworded]\n",
    "print(source_sents_subworded[0])\n",
    "\n",
    "prefixes_subworded = sp.encode_as_pieces(fuzzy_target_prefixes)\n",
    "target_prefixes = [[tgt_lang] + sent + [tgt_lang] + separator for sent in prefixes_subworded]\n",
    "print(target_prefixes[0])\n",
    "\n",
    "# Translate the source sentences\n",
    "translator = ctranslate2.Translator(ct_model_path, device=device)\n",
    "translations = translator.translate_batch(source_sents_subworded,\n",
    "                                          batch_type=\"tokens\",\n",
    "                                          max_batch_size=2024,\n",
    "                                          beam_size=beam_size,\n",
    "                                          min_decoding_length=2,\n",
    "                                          max_decoding_length=512,\n",
    "                                          target_prefix=target_prefixes)\n",
    "translations = [translation.hypotheses[0] for translation in translations]\n",
    "\n",
    "# Desubword the target sentences\n",
    "translations_desubword = sp.decode(translations)\n",
    "translations_desubword = [sent[len(tgt_lang):].strip() for sent in translations_desubword]\n",
    "\n",
    "translations_only = [sent.split(tgt_lang)[1].strip() for sent in translations_desubword]\n",
    "\n",
    "print(\"\\nTranslations:\", *translations_desubword[:10], sep=\"\\n\")\n",
    "print(\"\\nTranslations only:\", *translations_only[:10], sep=\"\\n\")"
   ]
  },
  {
   "cell_type": "code",
   "execution_count": null,
   "metadata": {
    "id": "7jGt_Ij6J5Xn"
   },
   "outputs": [],
   "source": [
    "translations_only = [sent.split(tgt_lang)[1].strip() for sent in translations_desubword]\n",
    "translations_only = [sent[1:].strip() if sent.startswith(\"•\") else sent.strip() for sent in translations_only]"
   ]
  },
  {
   "cell_type": "code",
   "execution_count": null,
   "metadata": {
    "colab": {
     "base_uri": "https://localhost:8080/",
     "height": 35
    },
    "id": "6p9mxL3WL0pZ",
    "outputId": "11c4911a-866f-4ebe-b966-c04ac4ab0a18"
   },
   "outputs": [
    {
     "data": {
      "application/vnd.google.colaboratory.intrinsic+json": {
       "type": "string"
      },
      "text/plain": [
       "'Shelf life after opening the packaging: 10 hours.'"
      ]
     },
     "execution_count": 23,
     "metadata": {},
     "output_type": "execute_result"
    }
   ],
   "source": [
    "translations_only[0]"
   ]
  },
  {
   "cell_type": "code",
   "execution_count": null,
   "metadata": {
    "id": "fQEk9087q0Ml"
   },
   "outputs": [],
   "source": [
    "# Save the translations\n",
    "\n",
    "translations_file_name = \"all-filtered.esen.ms-multi-12.online.test.translated-nllb3.3-ct2-beam2-bulletpoint.en\"\n",
    "\n",
    "with open(translations_file_name, \"w+\") as output:\n",
    "  for translation in translations_only:\n",
    "    output.write(translation + \"\\n\")"
   ]
  }
 ],
 "metadata": {
  "accelerator": "GPU",
  "colab": {
   "authorship_tag": "ABX9TyOrm0Xf9R3ITb/GbaKVUffN",
   "gpuType": "A100",
   "include_colab_link": true,
   "machine_shape": "hm",
   "mount_file_id": "1gVDqGn9fs0sSqOUOuSMhq4v-QbkYIvfh",
   "provenance": []
  },
  "kernelspec": {
   "display_name": "Python 3",
   "name": "python3"
  },
  "language_info": {
   "name": "python"
  }
 },
 "nbformat": 4,
 "nbformat_minor": 0
}
